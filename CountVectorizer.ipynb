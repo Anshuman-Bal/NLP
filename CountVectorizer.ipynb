{
  "nbformat": 4,
  "nbformat_minor": 0,
  "metadata": {
    "colab": {
      "provenance": [],
      "authorship_tag": "ABX9TyPsN1bnKCNcrqUgPRoUGSLQ",
      "include_colab_link": true
    },
    "kernelspec": {
      "name": "python3",
      "display_name": "Python 3"
    },
    "language_info": {
      "name": "python"
    }
  },
  "cells": [
    {
      "cell_type": "markdown",
      "metadata": {
        "id": "view-in-github",
        "colab_type": "text"
      },
      "source": [
        "<a href=\"https://colab.research.google.com/github/Anshuman-Bal/NLP/blob/test-01/CountVectorizer.ipynb\" target=\"_parent\"><img src=\"https://colab.research.google.com/assets/colab-badge.svg\" alt=\"Open In Colab\"/></a>"
      ]
    },
    {
      "cell_type": "code",
      "execution_count": 23,
      "metadata": {
        "id": "_NZiZiV3lzo6"
      },
      "outputs": [],
      "source": [
        "from sklearn.feature_extraction.text import CountVectorizer"
      ]
    },
    {
      "cell_type": "code",
      "source": [
        "document = [\"I like cats\",\n",
        "            \"I don't like dogs\",\n",
        "            \"I like cats but i don't like dogs\"]"
      ],
      "metadata": {
        "id": "fgFvakgOmCrP"
      },
      "execution_count": 24,
      "outputs": []
    },
    {
      "cell_type": "code",
      "source": [
        "vectorizer = CountVectorizer()"
      ],
      "metadata": {
        "id": "-8dKMMQrmgIV"
      },
      "execution_count": 25,
      "outputs": []
    },
    {
      "cell_type": "code",
      "source": [
        "vector = vectorizer.fit_transform(document)"
      ],
      "metadata": {
        "id": "npBeHGWtmiZo"
      },
      "execution_count": 26,
      "outputs": []
    },
    {
      "cell_type": "code",
      "source": [
        "print(vectorizer.vocabulary_)"
      ],
      "metadata": {
        "colab": {
          "base_uri": "https://localhost:8080/"
        },
        "id": "CSIJrd3IqWJX",
        "outputId": "3a458120-1ac1-4c30-d9fb-38aeb0c38dec"
      },
      "execution_count": 27,
      "outputs": [
        {
          "output_type": "stream",
          "name": "stdout",
          "text": [
            "{'like': 4, 'cats': 1, 'don': 3, 'dogs': 2, 'but': 0}\n"
          ]
        }
      ]
    },
    {
      "cell_type": "code",
      "source": [
        "\"\"\"\n",
        "Encoding Based on Vocabulary\n",
        "\n",
        "First Document: \"I like cats\"\n",
        "\n",
        "'i': ignored\n",
        "'like' (index 4) appears 1 time\n",
        "'cats' (index 1) appears 1 time\n",
        "Encoded: [0 1 0 0 1]\n",
        "\n",
        "Second Document: \"I don't like dogs\"\n",
        "\n",
        "'i': ignored\n",
        "\"don't\" (index 3) appears 1 time\n",
        "'like' (index 4) appears 1 time\n",
        "'dogs' (index 2) appears 1 time\n",
        "Encoded: [0 0 1 1 1]\n",
        "\n",
        "Third Document: \"I like cats but I don't like dogs\"\n",
        "\n",
        "'i': ignored\n",
        "'like' (index 4) appears 2 times\n",
        "'cats' (index 1) appears 1 time\n",
        "'but' (index 0) appears 1 time\n",
        "\"don't\" (index 3) appears 1 time\n",
        "'dogs' (index 2) appears 1 time\n",
        "Encoded: [1 1 1 1 2]\n",
        "\"\"\""
      ],
      "metadata": {
        "colab": {
          "base_uri": "https://localhost:8080/",
          "height": 88
        },
        "collapsed": true,
        "id": "SLETABwQpvYY",
        "outputId": "78c9ed69-d33c-4c92-a259-3edb6e8d2789"
      },
      "execution_count": 28,
      "outputs": [
        {
          "output_type": "execute_result",
          "data": {
            "text/plain": [
              "'\\nEncoding Based on Vocabulary\\n\\nFirst Document: \"I like cats\"\\n\\n\\'i\\': ignored\\n\\'like\\' (index 4) appears 1 time\\n\\'cats\\' (index 1) appears 1 time\\nEncoded: [0 1 0 0 1]\\n\\nSecond Document: \"I don\\'t like dogs\"\\n\\n\\'i\\': ignored\\n\"don\\'t\" (index 3) appears 1 time\\n\\'like\\' (index 4) appears 1 time\\n\\'dogs\\' (index 2) appears 1 time\\nEncoded: [0 0 1 1 1]\\n\\nThird Document: \"I like cats but I don\\'t like dogs\"\\n\\n\\'i\\': ignored\\n\\'like\\' (index 4) appears 2 times\\n\\'cats\\' (index 1) appears 1 time\\n\\'but\\' (index 0) appears 1 time\\n\"don\\'t\" (index 3) appears 1 time\\n\\'dogs\\' (index 2) appears 1 time\\nEncoded: [1 1 1 1 2]\\n'"
            ],
            "application/vnd.google.colaboratory.intrinsic+json": {
              "type": "string"
            }
          },
          "metadata": {},
          "execution_count": 28
        }
      ]
    },
    {
      "cell_type": "code",
      "source": [
        "print(type(vector))"
      ],
      "metadata": {
        "colab": {
          "base_uri": "https://localhost:8080/"
        },
        "id": "tJjya35mmqrZ",
        "outputId": "73b918e0-41d0-417d-a732-310030b72372"
      },
      "execution_count": 29,
      "outputs": [
        {
          "output_type": "stream",
          "name": "stdout",
          "text": [
            "<class 'scipy.sparse._csr.csr_matrix'>\n"
          ]
        }
      ]
    },
    {
      "cell_type": "code",
      "source": [
        "print(vector)"
      ],
      "metadata": {
        "colab": {
          "base_uri": "https://localhost:8080/"
        },
        "id": "vGQFxKuwmsNI",
        "outputId": "9fadf31c-7037-4d87-83a4-5336a0244555"
      },
      "execution_count": 30,
      "outputs": [
        {
          "output_type": "stream",
          "name": "stdout",
          "text": [
            "  (0, 4)\t1\n",
            "  (0, 1)\t1\n",
            "  (1, 4)\t1\n",
            "  (1, 3)\t1\n",
            "  (1, 2)\t1\n",
            "  (2, 4)\t2\n",
            "  (2, 1)\t1\n",
            "  (2, 3)\t1\n",
            "  (2, 2)\t1\n",
            "  (2, 0)\t1\n"
          ]
        }
      ]
    },
    {
      "cell_type": "code",
      "source": [
        "\"\"\"\n",
        "This output shows the non-zero entries of the sparse matrix in coordinate format (COO format), where each entry is represented as (document_index, term_index) count.\n",
        "\n",
        "(0, 1) 1 means that in document 0, term with index 1 appears 1 time.\n",
        "(0, 4) 1 means that in document 0, term with index 4 appears 1 time.\n",
        "(1, 2) 1 means that in document 1, term with index 2 appears 1 time.\n",
        "And so on.\n",
        "\"\"\""
      ],
      "metadata": {
        "colab": {
          "base_uri": "https://localhost:8080/",
          "height": 70
        },
        "collapsed": true,
        "id": "_vWT3sD3roSc",
        "outputId": "1d255458-4095-4711-ebbd-1dc56a163475"
      },
      "execution_count": 33,
      "outputs": [
        {
          "output_type": "execute_result",
          "data": {
            "text/plain": [
              "'\\nThis output shows the non-zero entries of the sparse matrix in coordinate format (COO format), where each entry is represented as (document_index, term_index) count.\\n\\n(0, 1) 1 means that in document 0, term with index 1 appears 1 time.\\n(0, 4) 1 means that in document 0, term with index 4 appears 1 time.\\n(1, 2) 1 means that in document 1, term with index 2 appears 1 time.\\nAnd so on.\\n'"
            ],
            "application/vnd.google.colaboratory.intrinsic+json": {
              "type": "string"
            }
          },
          "metadata": {},
          "execution_count": 33
        }
      ]
    },
    {
      "cell_type": "code",
      "source": [
        "print(vector.toarray())"
      ],
      "metadata": {
        "colab": {
          "base_uri": "https://localhost:8080/"
        },
        "id": "4rghEgGYm5g_",
        "outputId": "364ce09b-d8ea-4971-9e28-efdf35f34d7e"
      },
      "execution_count": 34,
      "outputs": [
        {
          "output_type": "stream",
          "name": "stdout",
          "text": [
            "[[0 1 0 0 1]\n",
            " [0 0 1 1 1]\n",
            " [1 1 1 1 2]]\n"
          ]
        }
      ]
    },
    {
      "cell_type": "code",
      "source": [],
      "metadata": {
        "id": "_elHMqfXnDnC"
      },
      "execution_count": null,
      "outputs": []
    }
  ]
}